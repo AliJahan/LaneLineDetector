{
 "cells": [
  {
   "cell_type": "code",
   "execution_count": null,
   "metadata": {},
   "outputs": [],
   "source": [
    "from moviepy.editor import VideoFileClip\n",
    "from IPython.display import HTML\n",
    "import sys\n",
    "sys.path.append('./utils')\n",
    "from utils import Helper \n",
    "%matplotlib inline\n",
    "\n",
    "a = Helper.ImageOperations()\n",
    "# image = a.read_image('test_images/solidWhiteRight.jpg')\n",
    "# a.imshow(image,  gray=True)\n",
    "white_output = 'test_videos_output/challenge.mp4'\n",
    "clip1 = VideoFileClip(\"test_videos/challenge.mp4\")\n",
    "white_clip = clip1.fl_image(Helper.wrapped_process_image)#.subclip(0,0.1 ) #NOTE: this function expects color images!!\n",
    "%time white_clip.write_videofile(white_output, audio=False)\n",
    "HTML(\"\"\"\n",
    "<video width=\"960\" height=\"540\" controls>\n",
    "  <source src=\"{0}\">\n",
    "</video>\n",
    "\"\"\".format(white_output))\n"
   ]
  },
  {
   "cell_type": "markdown",
   "execution_count": null,
   "metadata": {},
   "outputs": [],
   "source": []
  }
 ],
 "metadata": {
  "anaconda-cloud": {},
  "kernelspec": {
   "display_name": "Python 3",
   "language": "python",
   "name": "python3"
  },
  "language_info": {
   "codemirror_mode": {
    "name": "ipython",
    "version": 3
   },
   "file_extension": ".py",
   "mimetype": "text/x-python",
   "name": "python",
   "nbconvert_exporter": "python",
   "pygments_lexer": "ipython3",
   "version": "3.6.7-final"
  }
 },
 "nbformat": 4,
 "nbformat_minor": 0
}