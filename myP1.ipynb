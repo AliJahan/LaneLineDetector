{
 "cells": [
  {
   "cell_type": "markdown",
   "execution_count": null,
   "metadata": {},
   "outputs": [],
   "source": [
    "# Self-Driving Car Engineer Nanodegree\n",
    "\n",
    "\n",
    "## Project: **Finding Lane Lines on the Road** \n",
    "***"
   ]
  },
  {
   "cell_type": "markdown",
   "execution_count": null,
   "metadata": {},
   "outputs": [],
   "source": [
    "### The goal is to get a picture as below:\n",
    "<figure>\n",
    " <img src=\"examples/line-segments-example.jpg\" width=\"380\" alt=\"Combined Image\" />\n",
    " <figcaption>\n",
    " <p></p> \n",
    " <p style=\"text-align: center;\"> Image after detecting line segments</p> \n",
    " </figcaption>\n",
    "</figure>\n",
    " <p></p> \n",
    "<figure>\n",
    " <img src=\"examples/laneLines_thirdPass.jpg\" width=\"380\" alt=\"Combined Image\" />\n",
    " <figcaption>\n",
    " <p></p> \n",
    " <p style=\"text-align: center;\"> Image after connecting/averaging/extrapolating line segments</p> \n",
    " </figcaption>\n",
    "</figure>\n"
   ]
  },
  {
   "cell_type": "code",
   "execution_count": null,
   "metadata": {},
   "outputs": [],
   "source": [
    "import sys, glob\n",
    "sys.path.append('./utils')\n",
    "from utils.LineDetector import *\n",
    "%matplotlib inline\n",
    "\n",
    "image_line_detector = LineDetector()\n",
    "\n",
    "image_test_dir = \"test_images/\"\n",
    "test_images = [plt.imread(path) for path in glob.glob('test_images/*.jpg')]\n",
    "image_line_detector.show_images(test_images)\n",
    "\n"
   ]
  },
  {
   "cell_type": "code",
   "execution_count": null,
   "metadata": {},
   "outputs": [],
   "source": [
    "white_yellows = []\n",
    "for image in test_images:\n",
    "    white_yellows.append(image_line_detector.select_white_yellow(image))\n",
    "image_line_detector.show_images(white_yellows)"
   ]
  },
  {
   "cell_type": "code",
   "execution_count": null,
   "metadata": {},
   "outputs": [],
   "source": [
    "grays = []\n",
    "for i in white_yellows:\n",
    "    grays.append(image_line_detector.convert_gray_scale(i))\n",
    "image_line_detector.show_images(grays)"
   ]
  },
  {
   "cell_type": "code",
   "execution_count": null,
   "metadata": {},
   "outputs": [],
   "source": [
    "smooth_grays = []\n",
    "for i in grays:\n",
    "    smooth_grays.append(image_line_detector.apply_smoothing(i))\n",
    "image_line_detector.show_images(smooth_grays)"
   ]
  },
  {
   "cell_type": "code",
   "execution_count": null,
   "metadata": {},
   "outputs": [],
   "source": [
    "edges = []\n",
    "for i in grays:\n",
    "    edges.append(image_line_detector.detect_edges(i))\n",
    "image_line_detector.show_images(edges)"
   ]
  },
  {
   "cell_type": "code",
   "execution_count": null,
   "metadata": {},
   "outputs": [],
   "source": [
    "regions = []\n",
    "for i in grays:\n",
    "    regions.append(image_line_detector.select_region(i))\n",
    "image_line_detector.show_images(regions)"
   ]
  },
  {
   "cell_type": "code",
   "execution_count": null,
   "metadata": {},
   "outputs": [],
   "source": [
    "hough_lines = []\n",
    "for i in regions:\n",
    "    hough_lines.append(image_line_detector.hough_lines(i))\n",
    "hough_line_images = []\n",
    "for i, image in enumerate(test_images):\n",
    "    left_line, right_line = image_line_detector.lane_lines(image, hough_lines[i])\n",
    "    hough_line_images.append(image_line_detector.draw_lane_lines(image, (left_line, right_line)))\n",
    "image_line_detector.show_images(hough_line_images)"
   ]
  },
  {
   "cell_type": "code",
   "execution_count": null,
   "metadata": {},
   "outputs": [],
   "source": [
    "import sys, glob\n",
    "sys.path.append('./utils')\n",
    "from utils.Converter import *\n",
    "\n",
    "video_line_detectors = []\n",
    "test_videos = [vid for vid in glob.glob('test_videos/*.mp4')]\n",
    "for vid in test_videos:\n",
    "    print(vid)\n",
    "    vid_line_detector = LineDetector(vid)\n",
    "    vid_line_detector.process_video()\n",
    "    video_line_detectors.append(vid_line_detector)"
   ]
  },
  {
   "cell_type": "code",
   "execution_count": null,
   "metadata": {},
   "outputs": [],
   "source": [
    "from IPython.display import HTML\n",
    "output_vids_path = \"test_videos_output/\"\n",
    "HTML(\"\"\"\n",
    "    <video width=\"960\" height=\"540\" controls>\n",
    "    <source src=\"{0}\">\n",
    "    </video>\n",
    "\"\"\".format(output_vids_path + \"challenge.mp4\"))"
   ]
  },
  {
   "cell_type": "code",
   "execution_count": null,
   "metadata": {},
   "outputs": [],
   "source": [
    "HTML(\"\"\"\n",
    "    <video width=\"960\" height=\"540\" controls>\n",
    "    <source src=\"{0}\">\n",
    "    </video>\n",
    "\"\"\".format(output_vids_path + \"solidWhiteRight.mp4\"))"
   ]
  },
  {
   "cell_type": "code",
   "execution_count": null,
   "metadata": {},
   "outputs": [],
   "source": [
    "\n",
    "HTML(\"\"\"\n",
    "    <video width=\"960\" height=\"540\" controls>\n",
    "    <source src=\"{0}\">\n",
    "    </video>\n",
    "\"\"\".format(output_vids_path + \"solidYellowLeft.mp4\"))"
   ]
  },
  {
   "cell_type": "code",
   "execution_count": null,
   "metadata": {},
   "outputs": [],
   "source": []
  }
 ],
 "metadata": {
  "anaconda-cloud": {},
  "kernelspec": {
   "display_name": "Python 3",
   "language": "python",
   "name": "python3"
  },
  "language_info": {
   "codemirror_mode": {
    "name": "ipython",
    "version": 3
   },
   "file_extension": ".py",
   "mimetype": "text/x-python",
   "name": "python",
   "nbconvert_exporter": "python",
   "pygments_lexer": "ipython3",
   "version": "3.6.7-final"
  }
 },
 "nbformat": 4,
 "nbformat_minor": 0
}